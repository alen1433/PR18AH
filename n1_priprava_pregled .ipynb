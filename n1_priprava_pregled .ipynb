{
 "cells": [
  {
   "cell_type": "markdown",
   "metadata": {},
   "source": [
    "### Podatkovno rudarjenje, 1. domača naloga, 9. 3. 2018\n",
    "\n",
    "# Priprava podatkov, osnovne statistike in vizualizacija"
   ]
  },
  {
   "cell_type": "markdown",
   "metadata": {},
   "source": [
    "Alen Herceg 63160126"
   ]
  },
  {
   "cell_type": "markdown",
   "metadata": {},
   "source": [
    "Neizogiben del vsakega projekta na področju podatkovnega rudarjenja je iskanje,\n",
    "urejanje in priprava podatkov. V tej nalogi boste spoznali primer podatkovne\n",
    "zbirke in uporabili postopke za pretvorbo podatkov v ustrezno obliko ter pregled in prikaz\n",
    "osnovnih statistik.\n",
    "\n",
    "### Oddaja\n",
    "Zapišite kodo in odgovore v spodnje celice. Tako pripravljen notebook shranite v vaš repozitorij za domače naloge na *github*. V učilnici oddajte le povezavo do notebooka v vašem repozitoriju, n.pr.: https://github.com/vašeuporabniškoime/PR18DNvz/dn1/poročilo.ipynb.\n",
    "\n",
    "Za bolj podrobna navodila, glejte razdelek \"Domače naloge\" v [spletni učilnici predmeta](https://ucilnica.fri.uni-lj.si/course/view.php?id=37)."
   ]
  },
  {
   "cell_type": "markdown",
   "metadata": {},
   "source": [
    "## Podatki\n",
    "\n",
    "V nalogi boste pregledali in pripravili podatke gledanosti Hollywoodskih filmov\n",
    "zbirke [MovieLens](https://grouplens.org/datasets/movielens/) v obdobju **1995-2016**. Podatke naložite iz [spletne učilnice](https://ucilnica.fri.uni-lj.si/mod/resource/view.php?id=19230).\n",
    "\n",
    "Iste podatke boste uporabili v vseh domačih nalogah, zato jih dodobra spoznajte. Gre za podatkovno zbirko za\n",
    "vrednotenje priporočilnih sistemov, ki vsebuje gledalce ter njihove ocene za posamezni film na lestvici 1 do 5.  \n",
    "Poleg osnovne matrike uporabnikov in ocen vsebuje še dodatne podatke o filmih (npr. žanr, datum, oznake,\n",
    "igralci).\n",
    "\n",
    "Podatkovna zbirka vsebuje naslednje datoteke:\n",
    "\n",
    "* ratings.csv: podatki o uporabnikih in ocenah,\n",
    "* movies.csv: podatki o žanrih filmov,\n",
    "* cast.csv: podatki o igralcih,\n",
    "* tags.csv: podatki o oznakah (ang. \\emph{tags}),\n",
    "* links.csv: povezave na sorodne podatkovne zbirke.\n",
    "\n",
    "\n",
    "Pred pričetkom reševanja naloge si dobro oglejte podatke in datoteko **README.txt**. Podrobnosti o zbirki lahko preberete na [spletni strani](http://files.grouplens.org/datasets/movielens/ml-latest-small-README.html).\n",
    "\n",
    "Pripravite metode za nalaganje podatkov v ustrezne podatkovne strukture. Te vam bodo prišle\n",
    "prav tudi pri nadaljnjih nalogah.\n",
    "Bodite pozorni na velikost podatkov."
   ]
  },
  {
   "cell_type": "code",
   "execution_count": 256,
   "metadata": {
    "scrolled": false
   },
   "outputs": [],
   "source": [
    "import csv\n",
    "%matplotlib inline\n",
    "import matplotlib.pyplot as plt\n",
    "plt.style.use('PR.mplstyle')\n",
    "import numpy as np\n",
    "#odpiranje datoteke ratings\n",
    "readerRatings = DictReader(open('ratings.csv', 'rt', encoding='utf-8'))\n",
    "for row in readerRatings:\n",
    "    userR = row[\"userId\"]\n",
    "    movieR = row[\"movieId\"]\n",
    "    ratingR = row[\"rating\"]\n",
    "    timestampR = row[\"timestamp\"]\n",
    "#odpiranje datoteke tags\n",
    "readerTags = DictReader(open('tags.csv', 'rt', encoding='utf-8'))\n",
    "for row in readerTags:\n",
    "    userT = row[\"userId\"]\n",
    "    movieT = row[\"movieId\"]\n",
    "    tagT = row[\"tag\"]\n",
    "    timestampT = row[\"timestamp\"]\n",
    "#odpiranje datoteke movies\n",
    "readerMovies = DictReader(open('movies.csv', 'rt', encoding='utf-8'))\n",
    "for row in readerMovies:\n",
    "    movieM = row[\"movieId\"]\n",
    "    titleM = row[\"title\"]\n",
    "    genresM = row[\"genres\"]\n",
    "#odpiranje datoteke cast\n",
    "readerCast = DictReader(open('cast.csv', 'rt', encoding='utf-8'))\n",
    "for row in readerCast:\n",
    "    movieC = row[\"movieId\"]\n",
    "    castC = row[\"cast\"]\n",
    "#odpiranje datoteke links\n",
    "readerLinks = DictReader(open('links.csv', 'rt', encoding='utf-8'))\n",
    "for row in readerLinks:\n",
    "    movieL = row[\"movieId\"]\n",
    "    imdblinkL = row[\"imdbId\"]\n",
    "    tmdblinkL = row[\"tmdbId\"]"
   ]
  },
  {
   "cell_type": "code",
   "execution_count": null,
   "metadata": {},
   "outputs": [],
   "source": []
  },
  {
   "cell_type": "markdown",
   "metadata": {},
   "source": [
    "## Vprašanja\n",
    "\n",
    "Glavni namen podatkovnega rudarjenja je *odkrivanje znanj iz podatkov*,\n",
    "torej odgovarjanje na vprašanja z uporabo računskih postopkov.\n",
    "\n",
    "Z uporabo principov, ki ste jih spoznali na vajah in predavanjih, odgovorite na\n",
    "spodnja vprašanja. Pri vsakem vprašanju dobro premislite, na kakšen način boste\n",
    "najbolje podali, prikazali oz. utemeljili odgovor. Bistven del so odgovori na\n",
    "vprašanja in ne implementacija vaše rešitve."
   ]
  },
  {
   "cell_type": "markdown",
   "metadata": {},
   "source": [
    "### 1. vprašanje (15%):\n",
    "Kateri filmi so v povprečju najbolje ocenjeni?  Pripravite seznam\n",
    "filmov ter njihovih povprečnih ocen in izpišite po 10 filmov z vrha seznama.\n",
    "Opazite pri takem ocenjevanju kakšno težavo? Kako bi jo lahko rešili? Kakšni so\n",
    "rezultati tedaj?"
   ]
  },
  {
   "cell_type": "code",
   "execution_count": 253,
   "metadata": {},
   "outputs": [
    {
     "name": "stdout",
     "output_type": "stream",
     "text": [
      "Lamerica (1994) : 5.0\n",
      "Mute Witness (1994) : 5.0\n",
      "Picture Bride (Bijo photo) (1994) : 5.0\n",
      "Red Firecracker, Green Firecracker (Pao Da Shuang Deng) (1994) : 5.0\n",
      "Paris, France (1993) : 5.0\n",
      "Faces (1968) : 5.0\n",
      "Maya Lin: A Strong Clear Vision (1994) : 5.0\n",
      "Heavy (1995) : 5.0\n",
      "Death in the Garden (Mort en ce jardin, La) (1956) : 5.0\n",
      "Day the Sun Turned Cold, The (Tianguo niezi) (1994) : 5.0\n"
     ]
    }
   ],
   "source": [
    "import csv\n",
    "import operator\n",
    "allRating = {}\n",
    "ratingCount = {}\n",
    "sumRatings ={}\n",
    "finalSorted = []\n",
    "readerRatings = csv.DictReader(open('ratings.csv', 'rt', encoding='utf-8'))\n",
    "for row in readerRatings:\n",
    "    userR = row[\"userId\"]\n",
    "    movieR = row[\"movieId\"]\n",
    "    ratingR = row[\"rating\"]\n",
    "    timestampR = row[\"timestamp\"]\n",
    "    if movieR not in allRating:\n",
    "        allRating.update({movieR:float(ratingR)})\n",
    "        ratingCount.update({movieR:1})\n",
    "    else:\n",
    "        allRating[movieR] += float(ratingR)\n",
    "        ratingCount[movieR] += 1;\n",
    "for key  in allRating:\n",
    "    sumRatings.update({key:allRating.get(key)/ratingCount.get(key)})\n",
    "\n",
    "sortedX = sorted(sumRatings.items(),key=operator.itemgetter(1),reverse=True)\n",
    "readerMovies = csv.DictReader(open('movies.csv', 'rt', encoding='utf-8'))\n",
    "for row in readerMovies:\n",
    "    movieM = row[\"movieId\"]\n",
    "    titleM = row[\"title\"]\n",
    "    genresM = row[\"genres\"]\n",
    "    for tuplee in sortedX:\n",
    "        if movieM == tuplee[0]:\n",
    "            lsi = list(tuplee)\n",
    "            lsi[0] = titleM\n",
    "            tuplee = tuple(lsi)\n",
    "            finalSorted.append(tuplee)\n",
    "            continue\n",
    "finalSorted.sort(key=operator.itemgetter(1),reverse=True)\n",
    "count = 0\n",
    "while count < 10:\n",
    "    print(finalSorted[count][0] + \" : \" + str(finalSorted[count][1]))\n",
    "    count += 1"
   ]
  },
  {
   "cell_type": "code",
   "execution_count": 291,
   "metadata": {},
   "outputs": [
    {
     "name": "stdout",
     "output_type": "stream",
     "text": [
      "Lamerica (1994) : 100.0\n",
      "Mute Witness (1994) : 100.0\n",
      "Picture Bride (Bijo photo) (1994) : 100.0\n",
      "Paris, France (1993) : 100.0\n",
      "Faces (1968) : 100.0\n",
      "Heavy (1995) : 100.0\n",
      "Death in the Garden (Mort en ce jardin, La) (1956) : 100.0\n",
      "Day the Sun Turned Cold, The (Tianguo niezi) (1994) : 100.0\n",
      "Vive L'Amour (Ai qing wan sui) (1994) : 100.0\n",
      "Supercop 2 (Project S) (Chao ji ji hua) (1993) : 100.0\n"
     ]
    }
   ],
   "source": [
    "allRating = {}\n",
    "ratingCount = {}\n",
    "sumRatings ={}\n",
    "finalSorted = []\n",
    "readerRatings = csv.DictReader(open('ratings.csv', 'rt', encoding='utf-8'))\n",
    "for row in readerRatings:\n",
    "    userR = row[\"userId\"]\n",
    "    movieR = row[\"movieId\"]\n",
    "    ratingR = row[\"rating\"]\n",
    "    timestampR = row[\"timestamp\"]\n",
    "    if movieR not in allRating:\n",
    "        allRating.update({movieR:float(ratingR)*20})\n",
    "        ratingCount.update({movieR:1})\n",
    "    else:\n",
    "        allRating[movieR] += float(ratingR)\n",
    "        ratingCount[movieR] += 1;\n",
    "for key  in allRating:\n",
    "    sumRatings.update({key:allRating.get(key)/ratingCount.get(key)})\n",
    "\n",
    "sortedX = sorted(sumRatings.items(),key=operator.itemgetter(1),reverse=True)\n",
    "readerMovies = csv.DictReader(open('movies.csv', 'rt', encoding='utf-8'))\n",
    "for row in readerMovies:\n",
    "    movieM = row[\"movieId\"]\n",
    "    titleM = row[\"title\"]\n",
    "    genresM = row[\"genres\"]\n",
    "    for tuplee in sortedX:\n",
    "        if movieM == tuplee[0]:\n",
    "            lsi = list(tuplee)\n",
    "            lsi[0] = titleM\n",
    "            tuplee = tuple(lsi)\n",
    "            finalSorted.append(tuplee)\n",
    "            continue\n",
    "finalSorted.sort(key=operator.itemgetter(1),reverse=True)\n",
    "count = 0\n",
    "while count < 10:\n",
    "    print(finalSorted[count][0] + \" : \" + str(finalSorted[count][1]))\n",
    "    count += 1\n"
   ]
  },
  {
   "cell_type": "markdown",
   "metadata": {},
   "source": [
    "Odgovor: Ko poženeste prvotno kodo, boste dobili mojih prvih 10 filmov iz seznama po najboljši oceni. problem s tem\n",
    "ocenjevanjem je, da je dosti filmov isto ocenjenih(npr. vsaj 100 jih ma odlično oceno) in je težko razbrati kateri je najboljši.\n",
    "zato mislim da je boljše če imamo lestvico od 1 do 100. če poženemo drugo kodo, dobimo podobno vendar rahlo spremenjeno lestvico najboljših filmov. če večamo lestvico seznam filmov ostane isti."
   ]
  },
  {
   "cell_type": "markdown",
   "metadata": {},
   "source": [
    "### 2. vprašanje (15%):\n",
    "Posamezni film pripada enemu ali več žanrom. \n",
    "Koliko je vseh žanrov? Prikaži porazdelitev žanrov z uporabo ustrezne\n",
    "vizualizacije."
   ]
  },
  {
   "cell_type": "code",
   "execution_count": 290,
   "metadata": {},
   "outputs": [
    {
     "data": {
      "text/plain": [
       "<Container object of 20 artists>"
      ]
     },
     "execution_count": 290,
     "metadata": {},
     "output_type": "execute_result"
    },
    {
     "data": {
      "image/png": "[encoded data removed]",
      "text/plain": [
       "<matplotlib.figure.Figure at 0x1fd7b3147f0>"
      ]
     },
     "metadata": {},
     "output_type": "display_data"
    }
   ],
   "source": [
    "genres = {}\n",
    "readerMovies = csv.DictReader(open('movies.csv', 'rt', encoding='utf-8'))\n",
    "for row in readerMovies:\n",
    "    movieM = row[\"movieId\"]\n",
    "    titleM = row[\"title\"]\n",
    "    genresM = row[\"genres\"]\n",
    "    wordy = genresM.split(\"|\")\n",
    "    for word in wordy:\n",
    "        if word not in genres:\n",
    "            genres.update({word:1})\n",
    "        else:\n",
    "            genres[word] += 1\n",
    "plt.figure(figsize = (17,5))\n",
    "plt.bar(genres.keys(), genres.values(), align = \"center\" ,width = 0.5)"
   ]
  },
  {
   "cell_type": "markdown",
   "metadata": {},
   "source": [
    "Odgovor: Če gledamo žanre, kot je podano v podatkih, jih je 20, če pa gledamo dejanske žanre in ne upoštevamo IMAX in nedoločene, jih je 18."
   ]
  },
  {
   "cell_type": "markdown",
   "metadata": {},
   "source": [
    "### 3. vprašanje (20%):\n",
    "Število ocen (ogledov) se za posamezni film razlikuje. Ali\n",
    "obstaja povezava med gledanostjo in povprečno oceno filma? Opišite postopek, ki\n",
    "ste ga uporabili pri odgovarjanju na vprašanje."
   ]
  },
  {
   "cell_type": "code",
   "execution_count": 308,
   "metadata": {},
   "outputs": [
    {
     "data": {
      "image/png": "[encoded data removed]",
      "text/plain": [
       "<matplotlib.figure.Figure at 0x1fd1b6f1ef0>"
      ]
     },
     "metadata": {},
     "output_type": "display_data"
    }
   ],
   "source": [
    "plt.figure(figsize = (17,5))\n",
    "x = sumRatings.values()\n",
    "y = ratingCount.values()\n",
    "plt.plot(y,x,\"k.\")\n",
    "plt.xlabel('št. ocen')\n",
    "plt.ylabel('ocena filma');"
   ]
  },
  {
   "cell_type": "markdown",
   "metadata": {},
   "source": [
    "Odgovor: Je dosti več negativnih ocen za posamezen filem kot pa je za zelo dobro ocenjen filem, kar pomeni da dobri filmi so bili manj gledani kot pa slabi filmi."
   ]
  },
  {
   "cell_type": "markdown",
   "metadata": {},
   "source": [
    "### 4. vprašanje (30%):\n",
    "Vsaka ocena je bila vnešena na določen datum (stolpec\n",
    "*timestamp*).  Ali se popularnost posameznih filmov s časom spreminja?\n",
    "Problem reši tako, da za dani film ocene razporediš po času ter v vsaku časovni\n",
    "točki izračunaš povprečje za zadnjih 30, 50, ali 100 ocen. Nariši graf, kako se\n",
    "ocena spreminja in ga prikaži za dva zanimiva primera filmov."
   ]
  },
  {
   "cell_type": "code",
   "execution_count": 6,
   "metadata": {},
   "outputs": [],
   "source": [
    "# kodo lahko razdelite v več celic"
   ]
  },
  {
   "cell_type": "markdown",
   "metadata": {},
   "source": [
    "Odgovor: **zapišite odgovor**"
   ]
  },
  {
   "cell_type": "markdown",
   "metadata": {},
   "source": [
    "### 5. vprašanje (20%):\n",
    "Kako bi ocenili popularnost posameznih igralcev? Opišite postopek\n",
    "ocenitve ter izpišite 10 najbolj popularnih igralcev."
   ]
  },
  {
   "cell_type": "code",
   "execution_count": 294,
   "metadata": {},
   "outputs": [
    {
     "name": "stdout",
     "output_type": "stream",
     "text": [
      "('Jon Savage', 100.0)\n",
      "('Howard Goodall', 100.0)\n",
      "('Kitty Oliver', 100.0)\n",
      "('Richard Lester', 100.0)\n",
      "('Neil Aspinall', 100.0)\n",
      "('Larry Kane', 100.0)\n",
      "('Usha Nadkarni', 100.0)\n",
      "('Sachin Khedekar', 100.0)\n",
      "('Kanwaljit Singh', 100.0)\n",
      "('Ty Hurley', 100.0)\n"
     ]
    }
   ],
   "source": [
    "actorRoles = {}\n",
    "actorMoviesRatings = {}\n",
    "sortedRatings = sumRatings\n",
    "finalActors = {}\n",
    "readerCast = csv.DictReader(open('cast.csv', 'rt', encoding='utf-8'))\n",
    "for row in readerCast:\n",
    "    movieC = row[\"movieId\"]\n",
    "    castC = row[\"cast\"]\n",
    "    actores = castC.split(\"|\")\n",
    "    for actor in actores:\n",
    "        if actor not in actorRoles:\n",
    "            actorRoles.update({actor:1})\n",
    "        else:\n",
    "            actorRoles[actor] += 1\n",
    "        if actor not in actorMoviesRatings:\n",
    "            actorMoviesRatings.update({actor:sortedRatings.get(movieC,0)})\n",
    "        else:\n",
    "            actorMoviesRatings[actor] += sortedRatings.get(movieC, 0)\n",
    "for key in actorMoviesRatings:\n",
    "    if key not in finalActors:\n",
    "        finalActors.update({key:actorMoviesRatings.get(key)/actorRoles.get(key)})\n",
    "sortedX = sorted(finalActors.items(),key=operator.itemgetter(1))\n",
    "count = 0\n",
    "while count < 10:\n",
    "    print(sortedX.pop())\n",
    "    count += 1"
   ]
  },
  {
   "cell_type": "markdown",
   "metadata": {},
   "source": [
    "Odgovor: No, vsak igralec je tolko dober kot filem v katerem je igral, zato bi za vsakega igralca vzel povprečno oceno filmov, v katerih je igral in pol to delil z vsemi filmi, v katerih je igral in bi tako dobil njegovo popularnost recimo."
   ]
  },
  {
   "cell_type": "markdown",
   "metadata": {},
   "source": [
    "### bonus vprašanje (5%):\n",
    "\n",
    "Kateri je tvoj najljubši film? Zakaj?"
   ]
  },
  {
   "cell_type": "markdown",
   "metadata": {},
   "source": [
    "Odgovor: Scott Pilgrim vs. the World. Všeč mi pa je ker je zelo lepa ljubezenska zgodba vendar prikazana na zelo\n",
    "zanimiv in unikaten način. Vsebina je iz že obstoječega stripa in zelo lepo prikaže vse like in teme."
   ]
  },
  {
   "cell_type": "markdown",
   "metadata": {},
   "source": [
    "## Zapiski\n",
    "Za nalaganje podatkov lahko uporabite vgrajen modul `csv`. Mapa s podatki `ml-latest-small` se v tem primeru mora nahajati v isti mapi kot notebook."
   ]
  },
  {
   "cell_type": "code",
   "execution_count": 225,
   "metadata": {},
   "outputs": [],
   "source": [
    "from csv import DictReader\n",
    "\n",
    "reader = DictReader(open('ratings.csv', 'rt', encoding='utf-8'))\n",
    "for row in reader:\n",
    "    user = row[\"userId\"]\n",
    "    movie = row[\"movieId\"]\n",
    "    rating = row[\"rating\"]\n",
    "    timestamp = row[\"timestamp\"]"
   ]
  },
  {
   "cell_type": "markdown",
   "metadata": {},
   "source": [
    "Podatki v zadnji vrstici datoteke:"
   ]
  },
  {
   "cell_type": "code",
   "execution_count": 226,
   "metadata": {},
   "outputs": [
    {
     "data": {
      "text/plain": [
       "('671', '6565', '3.5', '1074784724')"
      ]
     },
     "execution_count": 226,
     "metadata": {},
     "output_type": "execute_result"
    }
   ],
   "source": [
    "user, movie, rating, timestamp"
   ]
  },
  {
   "cell_type": "markdown",
   "metadata": {},
   "source": [
    "Pretvorba časovnega formata (*Unix time*). Kode za oblikovanje so navedene v dokumentaciji modula [`datetime`](https://docs.python.org/3/library/datetime.html#strftime-and-strptime-behavior)."
   ]
  },
  {
   "cell_type": "code",
   "execution_count": 227,
   "metadata": {},
   "outputs": [
    {
     "data": {
      "text/plain": [
       "'2008-08-05 02:56'"
      ]
     },
     "execution_count": 227,
     "metadata": {},
     "output_type": "execute_result"
    }
   ],
   "source": [
    "from datetime import datetime\n",
    "\n",
    "t = 1217897793 # Unix-time\n",
    "ts = datetime.fromtimestamp(t).strftime('%Y-%m-%d %H:%M')\n",
    "ts"
   ]
  },
  {
   "cell_type": "code",
   "execution_count": null,
   "metadata": {},
   "outputs": [],
   "source": []
  },
  {
   "cell_type": "code",
   "execution_count": null,
   "metadata": {},
   "outputs": [],
   "source": []
  }
 ],
 "metadata": {
  "kernelspec": {
   "display_name": "Python 3",
   "language": "python",
   "name": "python3"
  },
  "language_info": {
   "codemirror_mode": {
    "name": "ipython",
    "version": 3
   },
   "file_extension": ".py",
   "mimetype": "text/x-python",
   "name": "python",
   "nbconvert_exporter": "python",
   "pygments_lexer": "ipython3",
   "version": "3.6.4"
  },
  "latex_envs": {
   "LaTeX_envs_menu_present": true,
   "autocomplete": true,
   "bibliofile": "biblio.bib",
   "cite_by": "apalike",
   "current_citInitial": 1,
   "eqLabelWithNumbers": true,
   "eqNumInitial": 1,
   "hotkeys": {
    "equation": "Ctrl-E",
    "itemize": "Ctrl-I"
   },
   "labels_anchors": false,
   "latex_user_defs": false,
   "report_style_numbering": false,
   "user_envs_cfg": false
  },
  "nbTranslate": {
   "displayLangs": [
    "*"
   ],
   "hotkey": "alt-t",
   "langInMainMenu": true,
   "sourceLang": "en",
   "targetLang": "fr",
   "useGoogleTranslate": true
  }
 },
 "nbformat": 4,
 "nbformat_minor": 2
}
