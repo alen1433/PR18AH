{
 "cells": [
  {
   "cell_type": "markdown",
   "metadata": {
    "lang": "sl"
   },
   "source": [
    "### Podatkovno rudarjenje, 3. domača naloga, 15. 5. 2018\n",
    "\n",
    "# Napovedovanje vrednosti"
   ]
  },
  {
   "cell_type": "markdown",
   "metadata": {
    "lang": "sl"
   },
   "source": [
    "## Alen Herceg"
   ]
  },
  {
   "cell_type": "markdown",
   "metadata": {
    "lang": "sl"
   },
   "source": [
    "Spoznali bomo praktično uporabo enostavnih metod nadzorovanega modeliranja oz.\n",
    "napovedovanja.  Skupna lastnost vseh omenjenih metod je, da s pomočjo\n",
    "naključnih spremenljivk (atributov) modelirajo vrednosti posebne spremenljivke,\n",
    "ki ji pravimo *razred* (v kontekstu uvrščanja v razrede, klasifikacije)\n",
    "ali *odziv* (v kontekstu regresije). Osnovne razlike med kontekstoma smo\n",
    "spoznali na predavanjih in vajah.\n",
    "\n",
    "Praktična cilja, ki ju bomo zasledovali sta:\n",
    "* modeliranje ocen posameznega uporabnika (odziva) s pomočjo vseh ostalih uporabnikov,\n",
    "* primerjava metod nadzorovanega modeliranja."
   ]
  },
  {
   "cell_type": "markdown",
   "metadata": {
    "lang": "sl"
   },
   "source": [
    "## Podatki\n",
    "\n",
    "Opis podatkovne zbirke MovieLens 1996-2016 ostaja enak prvi nalogi."
   ]
  },
  {
   "cell_type": "markdown",
   "metadata": {
    "lang": "sl"
   },
   "source": [
    "## Predpriprava podatkov\n",
    "\n",
    "Za potrebe te naloge bomo podatke pripravili na naslednji način:\n",
    "1. Izberi $m$ filmov z vsaj 100 ogledi.\n",
    "2. Izberi $n$ uporabnikov, ki si je ogledalo vsaj 100 filmov.\n",
    "3. Pripravi matriko $X$ velikosti $m \\times n$, kjer vrstice predstavljajo filme, stolpci pa uporabnike. Neznane vrednosti zamenjaj z $0$.\n",
    "\n",
    "Za vsakega od izbranih $n$ uporabnikov bo zgrajen regresijski model, \n",
    "katerega cilj bo napoved ocen za filme. "
   ]
  },
  {
   "cell_type": "markdown",
   "metadata": {},
   "source": [
    "<table>\n",
    "    <tr style=\"background-color: white;\">\n",
    "        <td style=\"border-right: 1px solid #000;\"></td>\n",
    "        <td></td>\n",
    "        <td style=\"border-right: 1px solid #000; border-left: 1px solid #000;\">$y^{(0)}$</td>\n",
    "        <td colspan=3 style=\"text-align:center;\">$X^{(0)}$</td>\n",
    "    </tr>\n",
    "    <tr style=\"border-bottom: 1px solid #000;\">\n",
    "        <td style=\"border-right: 1px solid #000;\"></td>\n",
    "        <td>Film/uporabnik</td>\n",
    "        <td style=\"border-right: 1px solid #000; border-left: 1px solid #000;\">$u_0$</td>\n",
    "        <td>$u_1$</td>\n",
    "        <td>$u_2$</td>\n",
    "        <td>$\\cdots$</td>\n",
    "    </tr>\n",
    "    <tr>\n",
    "        <td style=\"border-right: 1px solid #000;\">${f_1}$</td>\n",
    "        <td>Twelve Monkeys (a.k.a. 12 Monkeys) (1995)</td>\n",
    "        <td style=\"border-right: 1px solid #000; border-left: 1px solid #000;\">0</td>\n",
    "        <td>0</td>\n",
    "        <td>2.5</td>\n",
    "        <td>$\\cdots$</td>\n",
    "    </tr>\n",
    "    <tr>\n",
    "        <td style=\"border-right: 1px solid #000;\">${f_2}$</td>\n",
    "        <td>Dances with  Wolves (1990) </td>\n",
    "        <td style=\"border-right: 1px solid #000; border-left: 1px solid #000;\">4</td>\n",
    "        <td>0</td>\n",
    "        <td>0</td>\n",
    "        <td>$\\cdots$</td>\n",
    "    </tr>\n",
    "    <tr>\n",
    "        <td style=\"border-right: 1px solid #000;\">${f_3}$</td>\n",
    "        <td>Apollo 13 (1995)</td>\n",
    "        <td style=\"border-right: 1px solid #000; border-left: 1px solid #000;\">0</td>\n",
    "        <td>2</td>\n",
    "        <td>0</td>\n",
    "        <td>$\\cdots$</td>\n",
    "    </tr>\n",
    "    <tr>\n",
    "        <td style=\"border-right: 1px solid #000;\">${f_4}$</td>\n",
    "        <td>Sixth Sense, The (1999)</td><td style=\"border-right: 1px solid #000; border-left: 1px solid #000;\">3</td>\n",
    "        <td>0</td>\n",
    "        <td>4</td>\n",
    "        <td>$\\cdots$</td>\n",
    "    </tr>\n",
    "    <tr>\n",
    "        <td style=\"border-right: 1px solid #000;\">$\\cdots$</td>\n",
    "        <td>$\\cdots$</td>\n",
    "        <td style=\"border-right: 1px solid #000; border-left: 1px solid #000;\">$\\cdots$</td>\n",
    "        <td>$\\cdots$</td>\n",
    "        <td>$\\cdots$</td>\n",
    "        <td>$\\cdots$</td>\n",
    "    </tr>\n",
    "</table>\n",
    "\n",
    "<table>\n",
    "    <tr style=\"background-color: white;\">\n",
    "        <td style=\"border-right: 1px solid #000;\"></td>\n",
    "        <td></td>\n",
    "        <td style=\"border-right: 1px solid #000; border-left: 1px solid #000;\">$y^{(1)}$</td>\n",
    "        <td colspan=3 style=\"text-align:center;\">$X^{(1)}$</td>\n",
    "    </tr>\n",
    "    <tr style=\"border-bottom: 1px solid #000;\">\n",
    "        <td style=\"border-right: 1px solid #000;\"></td>\n",
    "        <td>Film/uporabnik</td>\n",
    "        <td style=\"border-right: 1px solid #000; border-left: 1px solid #000;\">$u_1$</td>\n",
    "        <td>$u_0$</td>\n",
    "        <td>$u_2$</td>\n",
    "        <td>$\\cdots$</td>\n",
    "    </tr>\n",
    "    <tr>\n",
    "        <td style=\"border-right: 1px solid #000;\">${f_1}$</td>\n",
    "        <td>Twelve Monkeys (a.k.a. 12 Monkeys) (1995)</td>\n",
    "        <td style=\"border-right: 1px solid #000; border-left: 1px solid #000;\">0</td>\n",
    "        <td>0</td>\n",
    "        <td>2.5</td>\n",
    "        <td>$\\cdots$</td>\n",
    "    </tr>\n",
    "    <tr>\n",
    "        <td style=\"border-right: 1px solid #000;\">${f_2}$</td>\n",
    "        <td>Dances with  Wolves (1990) </td>\n",
    "        <td style=\"border-right: 1px solid #000; border-left: 1px solid #000;\">0</td>\n",
    "        <td>4</td>\n",
    "        <td>0</td>\n",
    "        <td>$\\cdots$</td>\n",
    "    </tr>\n",
    "    <tr>\n",
    "        <td style=\"border-right: 1px solid #000;\">${f_3}$</td>\n",
    "        <td>Apollo 13 (1995)</td>\n",
    "        <td style=\"border-right: 1px solid #000; border-left: 1px solid #000;\">2</td>\n",
    "        <td>0</td>\n",
    "        <td>0</td>\n",
    "        <td>$\\cdots$</td>\n",
    "    </tr>\n",
    "    <tr>\n",
    "        <td style=\"border-right: 1px solid #000;\">${f_4}$</td>\n",
    "        <td>Sixth Sense, The (1999)</td><td style=\"border-right: 1px solid #000; border-left: 1px solid #000;\">0</td>\n",
    "        <td>3</td>\n",
    "        <td>4</td>\n",
    "        <td>$\\cdots$</td>\n",
    "    </tr>\n",
    "    <tr>\n",
    "        <td style=\"border-right: 1px solid #000;\">$\\cdots$</td>\n",
    "        <td>$\\cdots$</td>\n",
    "        <td style=\"border-right: 1px solid #000; border-left: 1px solid #000;\">$\\cdots$</td>\n",
    "        <td>$\\cdots$</td>\n",
    "        <td>$\\cdots$</td>\n",
    "        <td>$\\cdots$</td>\n",
    "    </tr>\n",
    "</table>"
   ]
  },
  {
   "cell_type": "markdown",
   "metadata": {
    "lang": "sl"
   },
   "source": [
    "Razdelitev podatkov za model uporabnika $u_0$ (zgoraj) in uporabnika $u_1$ (spodaj)."
   ]
  },
  {
   "cell_type": "markdown",
   "metadata": {
    "lang": "sl"
   },
   "source": [
    "## Vprašanja\n",
    "\n",
    "<ol>\n",
    "<li>(100%) **Regresija**. Za vsakega od uporabnikov postavite regresijski model. Uporabite eno ali več metod za učenje regresijskih modelov (linearna regresija, Ridge, Lasso, itd.). <br>\n",
    "    Za vsakega od $n$ uporabnikov izberite ustrezni stolpec v matriki podatkov. Za uporabnika $i$ imamo torej\n",
    "    <ul>\n",
    "    <li> Vektor odziva $y^{(i)}$,</li>\n",
    "    <li> Matriko podatkov $X^{(i)}$, ki vsebuje vse stolpce *razen* $i$.</li>\n",
    "    </ul>\n",
    "    \n",
    "Za lažjo predstavo si oglej zgornji tabeli. Nekajkrat (npr. trikrat) ponovite postopek preverjanja s pomočjo učne in testne množice:\n",
    "\n",
    "    <ol type=\"a\">\n",
    "    <li> Množico filmov, ki si jih je uporabnik ogledal, *naključno* razdelite v razmerju 75% (učna množica) in 25% (testna množica).</li>\n",
    "    <li> Naučite regresijski model na učni množici<br> (izberite ustrezne vrstice v $X$ in $y$).</li>\n",
    "    <li> Ovrednotite model na testni množici <br> (ponovno izberite ustrezne vrstice v $X$ in $y$).</li>\n",
    "    </ol>\n",
    "Oceno vrednotenja nato delite s številom poizkusov, da dobite končno oceno.<br>\n",
    "\n",
    "Poročajte o uspešnosti vašega modela. Pri tem se osredotočite na naslednja vprašanja:\n",
    "<ul>\n",
    "    <li> Utemeljite ustrezno mero vrednotenja. Ali model dobro napoveduje ocene?\n",
    "    <li> Z izbrano mero ocenite modele za vseh $n$ uporabnikov.\n",
    "</ul>\n",
    "\n",
    "</li>\n",
    "\n",
    "\n",
    "<li>\n",
    "(Bonus 15%) Ustvarite novega uporabnika, ki predstavlja vaše ocene\n",
    "filmov. Ocenite nekaj filmov po lastnem okusu in preverite, kako modeli ocenijo neizbrane filme.\n",
    "Ali se vam zdijo napovedi primerne? \n",
    "</li>\n",
    "</ol>"
   ]
  },
  {
   "cell_type": "markdown",
   "metadata": {
    "lang": "sl"
   },
   "source": [
    "## Zapiski\n",
    "\n",
    "Implementacijo, opis in vrednotenje metod za nadzorovanjo učenje vsebujejo knjižnice `sklearn` ali `Orange`."
   ]
  },
  {
   "cell_type": "code",
   "execution_count": 302,
   "metadata": {},
   "outputs": [],
   "source": [
    "import random\n",
    "from sklearn.model_selection import train_test_split\n",
    "from sklearn.linear_model import LinearRegression, Lasso, Ridge\n",
    "from sklearn.metrics import mean_squared_error, mean_absolute_error, r2_score\n",
    "import numpy as np\n",
    "from scipy.stats import pearsonr\n",
    "import csv\n",
    "%matplotlib inline\n",
    "import matplotlib.pyplot as plt\n",
    "plt.style.use('PR.mplstyle')"
   ]
  },
  {
   "cell_type": "code",
   "execution_count": 393,
   "metadata": {
    "scrolled": true
   },
   "outputs": [
    {
     "data": {
      "text/plain": [
       "Text(0,0.5,'MSE')"
      ]
     },
     "execution_count": 393,
     "metadata": {},
     "output_type": "execute_result"
    },
    {
     "data": {
      "image/png": "[encoded data removed]",
      "text/plain": [
       "<matplotlib.figure.Figure at 0x1afa354da58>"
      ]
     },
     "metadata": {},
     "output_type": "display_data"
    }
   ],
   "source": [
    "userY = {}\n",
    "movieY = {}\n",
    "userN = []\n",
    "movieM = []\n",
    "readerRatings = csv.DictReader(open('ratings.csv', 'rt', encoding='utf-8'))\n",
    "for row in readerRatings:\n",
    "    a = int(row[\"userId\"])\n",
    "    b =int(row[\"movieId\"])\n",
    "    if a in userY:\n",
    "        userY[a] += 1\n",
    "    else:\n",
    "        userY[a] = 1\n",
    "    if b in movieY:\n",
    "        movieY[b] += 1\n",
    "    else:\n",
    "        movieY[b] = 1\n",
    "#pridobivanje uporabnikov, ki so si ogledali vsaj 100 filmov\n",
    "for key in userY:\n",
    "    if userY[key] >= 100:\n",
    "        userN.append(key)\n",
    "userN.sort()\n",
    "#pridobivanje filmov, ki imajo vsaj 100 ogledov\n",
    "for key in movieY:\n",
    "    if movieY[key] >= 100:\n",
    "        movieM.append(key)\n",
    "movieM.sort()\n",
    "#ustvarimo novo matriko in jo napolnimo\n",
    "matrix = np.zeros((len(movieM),len(userN))) \n",
    "readerRatings = csv.DictReader(open('ratings.csv', 'rt', encoding='utf-8'))\n",
    "for row in readerRatings:\n",
    "    a = int(row[\"userId\"])\n",
    "    b =int(row[\"movieId\"])\n",
    "    c = float(row[\"rating\"])\n",
    "    if a in userN:\n",
    "        if b in movieM:\n",
    "            matrix[movieM.index(b)][userN.index(a)] = c\n",
    "#razdelimo na učne in testne množice za vsakega uporabnika\n",
    "random.seed(9001)\n",
    "msef = []\n",
    "maef = []\n",
    "evf = []\n",
    "for i in range(0,len(userN)):\n",
    "    mse = []\n",
    "    mae = []\n",
    "    ev = []\n",
    "    y = matrix[:,[i]]\n",
    "    data_train_nu, data_test_use, group_train_nu, group_test_use = train_test_split(y,matrix, test_size=0.25, random_state=random.randint(0,300))\n",
    "#za vsakega uporabnika učimo model 6-krat in shranimo dobljene rezultate v končno tabelo za vsakega uporabnika\n",
    "    for t in range(0,6):\n",
    "        data_train_use, data_test_nu, group_train_use, group_test_nu = train_test_split(y,matrix, test_size=0.25, random_state=random.randint(0,300))\n",
    "        model = Lasso(alpha=1.7)\n",
    "        model.fit(group_train_use,data_train_use)\n",
    "        pred = model.predict(group_test_use)\n",
    "        mae.append(mean_absolute_error(data_test_use,pred))\n",
    "        mse.append(mean_squared_error(data_test_use,pred))\n",
    "        ev.append(r2_score(data_test_use,pred)*100)\n",
    "    msef.append(sum(mse)/6)\n",
    "    maef.append(sum(mae)/6)\n",
    "    evf.append(sum(ev)/6)\n",
    "#vizualizacija\n",
    "#srednja kvadratična napaka\n",
    "plt.figure()\n",
    "plt.plot(msef,\"k.\")\n",
    "plt.xlabel(\"uporabniki\")\n",
    "plt.ylabel(\"MSE\")"
   ]
  },
  {
   "cell_type": "markdown",
   "metadata": {},
   "source": [
    "Ko smo izračunali vse potrebno za vsakega uporabnika vidimo, da za večino uporabnikov je bil MSE okoli 0.8 kar jedosti dober rezultat."
   ]
  },
  {
   "cell_type": "code",
   "execution_count": 394,
   "metadata": {},
   "outputs": [
    {
     "data": {
      "text/plain": [
       "Text(0,0.5,'MAE')"
      ]
     },
     "execution_count": 394,
     "metadata": {},
     "output_type": "execute_result"
    },
    {
     "data": {
      "image/png": "[encoded data removed]",
      "text/plain": [
       "<matplotlib.figure.Figure at 0x1afa21ba358>"
      ]
     },
     "metadata": {},
     "output_type": "display_data"
    }
   ],
   "source": [
    "#srednja absolutna napaka\n",
    "plt.plot(maef,\"k.\")\n",
    "plt.xlabel(\"uporabniki\")\n",
    "plt.ylabel(\"MAE\")"
   ]
  },
  {
   "cell_type": "markdown",
   "metadata": {},
   "source": [
    "Pri MAE pa opazimo, da je večino uporabnikov imelo MAE med 1 in 0.6, redki so pa šli čez ali pod to nekako normo."
   ]
  },
  {
   "cell_type": "code",
   "execution_count": 395,
   "metadata": {},
   "outputs": [
    {
     "data": {
      "text/plain": [
       "Text(0,0.5,'EV')"
      ]
     },
     "execution_count": 395,
     "metadata": {},
     "output_type": "execute_result"
    },
    {
     "data": {
      "image/png": "[encoded data removed]",
      "text/plain": [
       "<matplotlib.figure.Figure at 0x1afa381aa90>"
      ]
     },
     "metadata": {},
     "output_type": "display_data"
    }
   ],
   "source": [
    "# delež pojasnene variance\n",
    "plt.plot(evf,\"k.\")\n",
    "plt.xlabel(\"uporabniki\")\n",
    "plt.ylabel(\"EV\")"
   ]
  },
  {
   "cell_type": "markdown",
   "metadata": {},
   "source": [
    "Tukaj pri  deležu pojasnene variance pa je večino uporabnikov bilo ocenjeno okoli 80%, kar je zelo dobro. To pomeni, da modeli dobro ocenjujejo.\n",
    "\n",
    "Na koncu celotnega preiskovanje se je vidlo, da modeli zelo dobro delujejo in so zelo koristni in priročni pri ocenjevanju."
   ]
  },
  {
   "cell_type": "code",
   "execution_count": null,
   "metadata": {},
   "outputs": [],
   "source": []
  }
 ],
 "metadata": {
  "kernelspec": {
   "display_name": "Python 3",
   "language": "python",
   "name": "python3"
  },
  "language_info": {
   "codemirror_mode": {
    "name": "ipython",
    "version": 3
   },
   "file_extension": ".py",
   "mimetype": "text/x-python",
   "name": "python",
   "nbconvert_exporter": "python",
   "pygments_lexer": "ipython3",
   "version": "3.6.4"
  },
  "latex_envs": {
   "LaTeX_envs_menu_present": true,
   "autocomplete": true,
   "bibliofile": "biblio.bib",
   "cite_by": "apalike",
   "current_citInitial": 1,
   "eqLabelWithNumbers": true,
   "eqNumInitial": 1,
   "hotkeys": {
    "equation": "Ctrl-E",
    "itemize": "Ctrl-I"
   },
   "labels_anchors": false,
   "latex_user_defs": false,
   "report_style_numbering": false,
   "user_envs_cfg": false
  },
  "nbTranslate": {
   "displayLangs": [
    "en",
    "sl"
   ],
   "hotkey": "alt-t",
   "langInMainMenu": true,
   "sourceLang": "sl",
   "targetLang": "en",
   "useGoogleTranslate": true
  }
 },
 "nbformat": 4,
 "nbformat_minor": 2
}
